{
 "cells": [
  {
   "cell_type": "code",
   "execution_count": 2,
   "id": "ab79aa02",
   "metadata": {},
   "outputs": [],
   "source": [
    "import json\n",
    "from typing import Sequence, List\n",
    "\n",
    "from llama_index.llms import OpenAI, ChatMessage\n",
    "from llama_index.tools import BaseTool, FunctionTool\n",
    "\n",
    "import nest_asyncio\n",
    "\n",
    "nest_asyncio.apply()"
   ]
  },
  {
   "cell_type": "code",
   "execution_count": 3,
   "id": "cd95d2e0-bf8b-4133-98d0-f9acc31dbe7d",
   "metadata": {},
   "outputs": [],
   "source": [
    "from llama_index.agent import ReActAgent\n",
    "from llama_index.llms import OpenAI, LlamaCPP, MockLLM\n",
    "from llama_index.prompts.system import MARKETING_WRITING_ASSISTANT"
   ]
  },
  {
   "cell_type": "code",
   "execution_count": 4,
   "id": "33c178ea",
   "metadata": {},
   "outputs": [],
   "source": [
    "#llm = OpenAI(model=\"gpt-3.5-turbo-0613\") # requires OpenAI API key\n",
    "llm = MockLLM()"
   ]
  },
  {
   "cell_type": "code",
   "execution_count": 5,
   "id": "5c90541b-b384-4284-99be-1c1619b1c59d",
   "metadata": {},
   "outputs": [],
   "source": [
    "from llama_index.agent import ReActAgent"
   ]
  },
  {
   "cell_type": "code",
   "execution_count": 6,
   "id": "f2027aee",
   "metadata": {},
   "outputs": [
    {
     "name": "stdout",
     "output_type": "stream",
     "text": [
      "You are a marketing writing assistant. You help come up with creative content ideas and content like marketing emails, blog posts, tweets, ad copy and product descriptions. You write in a friendly yet professional tone but can tailor your writing style that best works for a user-specified audience. If you do not know the answer to a question, respond by saying \"I do not know the answer to your question.\"\n",
      "\n"
     ]
    }
   ],
   "source": [
    "print(MARKETING_WRITING_ASSISTANT)"
   ]
  },
  {
   "cell_type": "code",
   "execution_count": 9,
   "id": "c8be3db0",
   "metadata": {},
   "outputs": [],
   "source": [
    "GRANDMA = '''You are a very old Czech lady who is very kind and soft mannered. You write in a very soft \n",
    "            tone and make everyone feel a child again. If you ar\n",
    "            e not sure of something,  \n",
    "            you say \"oh honey, I am too old to think about that\". '''"
   ]
  },
  {
   "cell_type": "code",
   "execution_count": 13,
   "id": "98c67824-bbe1-42cf-a59a-32dc0fdcb929",
   "metadata": {},
   "outputs": [],
   "source": [
    "agent = ReActAgent.from_tools(\n",
    "    llm=llm,\n",
    "    verbose=True,\n",
    "    system_prompt= GRANDMA#MARKETING_WRITING_ASSISTANT,\n",
    ")"
   ]
  },
  {
   "cell_type": "code",
   "execution_count": 14,
   "id": "8795f9e4-106f-4cd7-ba2c-20813700f73a",
   "metadata": {},
   "outputs": [
    {
     "data": {
      "text/plain": [
       "AgentChatResponse(response='[your answer here]', sources=[], source_nodes=[])"
      ]
     },
     "execution_count": 14,
     "metadata": {},
     "output_type": "execute_result"
    }
   ],
   "source": [
    "response"
   ]
  },
  {
   "cell_type": "code",
   "execution_count": 15,
   "id": "bf69d2d1",
   "metadata": {},
   "outputs": [
    {
     "name": "stdout",
     "output_type": "stream",
     "text": [
      "\u001b[38;5;200m\u001b[1;3mResponse: [your answer here]\n",
      "\u001b[0m[your answer here]\n"
     ]
    }
   ],
   "source": [
    "# Single response\n",
    "response = agent.chat(\"Ahoj, dobry den!\")\n",
    "print(response)"
   ]
  },
  {
   "cell_type": "code",
   "execution_count": null,
   "id": "a9ce7337-8cb9-4238-9b1d-f3999b66a03b",
   "metadata": {},
   "outputs": [],
   "source": []
  }
 ],
 "metadata": {
  "kernelspec": {
   "display_name": "Python 3 (ipykernel)",
   "language": "python",
   "name": "python3"
  },
  "language_info": {
   "codemirror_mode": {
    "name": "ipython",
    "version": 3
   },
   "file_extension": ".py",
   "mimetype": "text/x-python",
   "name": "python",
   "nbconvert_exporter": "python",
   "pygments_lexer": "ipython3",
   "version": "3.11.4"
  }
 },
 "nbformat": 4,
 "nbformat_minor": 5
}
