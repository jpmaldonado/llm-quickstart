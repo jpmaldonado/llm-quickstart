{
 "cells": [
  {
   "cell_type": "code",
   "execution_count": null,
   "id": "feff232a-791d-4955-8726-43b59ee5935f",
   "metadata": {},
   "outputs": [],
   "source": [
    "from transformers import GPT2Tokenizer, GPT2LMHeadModel\n",
    "pretrained = 'spital/gpt2-small-czech-cs'  # a local directory or huggingface model name\n",
    "tokenizer = GPT2Tokenizer.from_pretrained(pretrained)\n",
    "model = GPT2LMHeadModel.from_pretrained(pretrained, pad_token_id=tokenizer.eos_token_id)\n",
    "\n",
    "# Sequence length max is 1024\n",
    "tokenizer.model_max_length = 1024\n",
    "\n",
    "model.eval();\n"
   ]
  },
  {
   "cell_type": "code",
   "execution_count": null,
   "id": "bebb833c-ec7d-47cd-ab45-219378e043e8",
   "metadata": {},
   "outputs": [],
   "source": [
    "text = \"\"\"\n",
    "    Film Barbie přesáhl první srpnovou neděli na tržbách v přepočtu téměř 22 miliard korun. \n",
    "    Stalo se tak \"\"\"\n",
    "encoded = tokenizer.encode(text, return_tensors='pt')\n",
    "# torch.random.manual_seed(0)  # if you need reproducibility\n",
    "sample_outputs = model.generate(encoded, do_sample=True,\n",
    "             max_length=encoded.size()[1]+20,\n",
    "             no_repeat_ngram_size=2, \n",
    "             top_p=0.95, \n",
    "             top_k=100, # number of characters to generate\n",
    "             temperature=0.65, num_return_sequences=3)\n",
    "\n",
    "for i, sample_output in enumerate(sample_outputs): \n",
    "    print(\"{}: {}\\n\".format(i, tokenizer.decode(sample_output, skip_special_tokens=True)))\n"
   ]
  }
 ],
 "metadata": {
  "kernelspec": {
   "display_name": "Python 3 (ipykernel)",
   "language": "python",
   "name": "python3"
  },
  "language_info": {
   "codemirror_mode": {
    "name": "ipython",
    "version": 3
   },
   "file_extension": ".py",
   "mimetype": "text/x-python",
   "name": "python",
   "nbconvert_exporter": "python",
   "pygments_lexer": "ipython3",
   "version": "3.10.4"
  }
 },
 "nbformat": 4,
 "nbformat_minor": 5
}
