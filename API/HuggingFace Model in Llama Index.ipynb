{
 "cells": [
  {
   "cell_type": "code",
   "execution_count": 1,
   "id": "f4e709d2-1bbd-44c6-9ac9-a1fd3e291191",
   "metadata": {},
   "outputs": [],
   "source": [
    "import nest_asyncio\n",
    "\n",
    "nest_asyncio.apply()"
   ]
  },
  {
   "cell_type": "code",
   "execution_count": 2,
   "id": "b9e5c642-ae31-41a8-bfff-e71b8ac9b5f4",
   "metadata": {},
   "outputs": [],
   "source": [
    "import os\n",
    "\n",
    "os.environ['OPENAI_API_KEY'] = 'sk-xx'\n",
    "os.environ[\"HUGGINGFACEHUB_API_TOKEN\"] = \"hf_xx\""
   ]
  },
  {
   "cell_type": "code",
   "execution_count": 3,
   "id": "12c177b9-cb99-43dd-afad-dfc0fa83a3fc",
   "metadata": {},
   "outputs": [],
   "source": [
    "from llama_index import ServiceContext\n",
    "from llama_index.prompts.prompts import SimpleInputPrompt\n",
    "\n",
    "import torch\n",
    "from llama_index.llms import HuggingFaceLLM\n",
    "llm = HuggingFaceLLM(\n",
    "    tokenizer_name=\"spital/gpt2-small-czech-cs\",\n",
    "    model_name=\"spital/gpt2-small-czech-cs\",\n",
    ")\n",
    "service_context = ServiceContext.from_defaults(\n",
    "    chunk_size=1024, \n",
    "    llm=llm,\n",
    ")"
   ]
  },
  {
   "cell_type": "code",
   "execution_count": 4,
   "id": "8031684d-3826-4279-aaac-149d0f3b4796",
   "metadata": {},
   "outputs": [],
   "source": [
    "from llama_index import VectorStoreIndex"
   ]
  },
  {
   "cell_type": "code",
   "execution_count": 5,
   "id": "4544114d-7510-42bd-9a7a-8f63d91dfa69",
   "metadata": {},
   "outputs": [
    {
     "name": "stdout",
     "output_type": "stream",
     "text": [
      "LLM is explicitly disabled. Using MockLLM.\n"
     ]
    }
   ],
   "source": [
    "from llama_index import StorageContext, load_index_from_storage\n",
    "\n",
    "# rebuild storage context\n",
    "storage_context = StorageContext.from_defaults(persist_dir=\"./storage/zeman\")\n",
    "# load index\n",
    "index = load_index_from_storage(storage_context, index_id=\"vector_index\")\n",
    "\n",
    "query_engine = index.as_query_engine()"
   ]
  },
  {
   "cell_type": "code",
   "execution_count": 13,
   "id": "d3ebda1b-cfe7-4e15-9f8b-89100ce3e78e",
   "metadata": {},
   "outputs": [],
   "source": [
    "chat_engine = index.as_chat_engine(\n",
    "    chat_mode='condense_question',\n",
    "    verbose=False\n",
    ")"
   ]
  },
  {
   "cell_type": "code",
   "execution_count": 14,
   "id": "37002cdb-694e-49e1-81f0-78dde560184c",
   "metadata": {},
   "outputs": [],
   "source": [
    "query_engine = index.as_query_engine(response_mode=\"tree_summarize\")\n",
    "response = query_engine.query(\"shrnout názor na téma, zda je Zeman lhář\")"
   ]
  },
  {
   "cell_type": "code",
   "execution_count": 15,
   "id": "baa5c883-a2fe-477d-91de-b67ca5746f56",
   "metadata": {},
   "outputs": [
    {
     "name": "stdout",
     "output_type": "stream",
     "text": [
      "Context information from multiple sources is below.\n",
      "---------------------\n",
      "já se tě ptám , zda - li jsi ochoten potvrdit , že Zeman není lhář ?Jak já jsem rád za Zemana a za to , že v Česku je zatím více toho \" nevzdělaného plebsu \" než rádoby intelektuálních jelit .Každý normální nesluníčkový člověk , který vnímá demokracii jako demokracii a ne pseudodemokracii musel souhlasit se slovy prezidenta .Věřím , že bude znovu kandidovat .Nerad bych se v roce 2019 dočkal projevu od některého z kandidujících eurosluníček , který by vítal migranty a z obyčejných pracujících lidí , kteří jsou proti živení ekonomických migrantu dělal nácky .Čili Zeman nelže ?Vase pripominka k Mynarove proverce spis patri mediim , kdyz o tom neinformuji ...ja si tu praci dal a zjistil , ze Mynar proverku ma , jen nema na ten nejvyssi stupen a o to se doted soudi .Zeman pokud vim mel prohlasit , ze po konecnem rozhodnuti soudu bud Mynare resit ...soud ale porad probiha , zadne konecne rozhodnuti jeste neni .Takze vytka spis soudum ...za to , ze clanek nenasel se omluvil ( tezko se bude omlouvat za to , ze to necetl , kdyz je presvedcen o tom , ze ano ) ...zbytek mi nejak unikl .Inu , jste prostá žena , Heleno .Právě k vám Miloš mluvil .V projevu měl pravdu o uprchlících i o netáhlech co si chodí jen pro dávky , místo toho aby by chodili do práce jako jiný .O Vánocích budu slušný a nechtěl jsem se rozčílit , tak jsem to viděl asi 1 - 2 minuty a stačilo ...Ty kecy o elektřině , když v době jeho vlády se podepisovaly samé privatizace , pobídky a další zvěrstva , která nyní vehementně kritizuje - no prostě Zeman jako vždy - samá pravda ...Zeman zase lhal o cenzuře .A je poplatný zaměstnavatelům z Ruska .To je odporné .Komunisti prostě to lhaní mají v genech\n",
      "Bude protoze přesně díky lžím a propagandě vyhrál ....nebrecte ...zvolili jsme si ho tak trpme az do horkeho konce ...na demokracii je krasny , , , ze si lid nezridka zvoli zastupne ktery je dovede do pekla ( to samozrejme prehanim ) a lid tomu jeste tleska ...krasny : )\n",
      "Jestli pan Pospíšil v řeči prezidenta Zemana vidí nadbíhání Číně , nebo podporu ruské propagandy , tak by měl navštívit psychoanalytika .\n",
      "\n",
      "Zajímá ještě někoho Miloš Zeman .?Je to jen umělé vyvolávaní zájmu o lháře z Hradu .Nebudeme si nalhávat , že ke komu se tento dopis dostane .Zeman doufá , že aspoň k Ivaně , jednou .Jenže těch holí , už je na Zemana až příliš .Nebylo od dob Husáka jiného politika , který by dělal Čechům tak velkou ostudu .: - P\n",
      "Je smutné jak mluvčí bývalého komunisty , dnes levicově , populisticky a na východ orientovaného prezidenta , nadává jiným do soudruhů .jde o to , že mnoho lidí nemá rádo Zemana , včetně mě , proto takové zbytečné články , může si za to sám !Zemanovu angličtinu netřeba komentovat , tu předvedl už vícekrát .Přivádí mě ale k úžasu , že oficiální mluvčí jakékoliv státní instituce v zemi se zastupitelskou parlamentní demokracií může takto bez kontroly vyjadřovat své čistě osobní přisprostlé soudy veřejně činných osob ..Muzes jit 17 .demonstrovat , ze Zeman neni tvuj prezident .Já jsem ten dopis četl a styděl bych se i po pár letech znalosti angličtiny .A to nejsem zatím prezident .Ministr Svoboda byl potrestán proto , že sám Zeman vyhlásil akci čisté ruce a takovýto postup podporoval .Všichni ostatní kriminální činy svých ministrů zametali pod koberec a ještě se jich zastávali .Opravdu si myslíte , že Svoboda byl jediným ministrem , který si zasloužil být trestně stíhán ?Svatá prostoto ...Copak Hrad nemá oficiálního překladatele ?To by snad neměla být vizitka Zemana , ale překladatele .V oficialnim dopise to je dost blby , nemyslite ?Zvlast kdyz si vzpomeneme jak se vysmival Sobotkovi za dopis s navrhem na jmenovani vlady\n",
      "Spis je to ilustrace toho , ze nic jineho , nez preslapy , on ani jeho kancelar nedelaji .nějak nevidím tu podobu Zemana s Trumpem .Jestli myslí vzděláním nebo majetkem ?Snad jen ta jateční váha je trochu společná\n",
      "To jsou ty nejmenší přešlapy , které Zeman ve funkci prezidenta udělal .Kolik zdejších diskutujících přišlo jen nadávat na Zemana ?\n",
      "---------------------\n",
      "Given the information from multiple sources and not prior knowledge, answer the query.\n",
      "Query: shrnout názor na téma, zda je Zeman lhář\n",
      "Answer: \n"
     ]
    }
   ],
   "source": [
    "print(response)"
   ]
  },
  {
   "cell_type": "code",
   "execution_count": 16,
   "id": "a4bc11b8-ebe8-4e06-88d0-ed26a35312fc",
   "metadata": {},
   "outputs": [
    {
     "name": "stdout",
     "output_type": "stream",
     "text": [
      "Context information is below.\n",
      "---------------------\n",
      "Kdy už ti novináři pochopí , že tím jen dávají argumenty do rukou Zemanovců a naprosto zbytečně utvrzují jeho voliče .Ono to nejspíše bylo takto : Prezident Miloš Zeman napsal dopis česky , Jiří Ovčáček to pak přeložil do angličtiny a korektury textu provedla Američanka .Takže je to neprůstřelné !; - D\n",
      "Většina zdejších diskutujících vůbec netuší , co je angličtina , resp .co je současná angličtina , jen si tak přišli zanadávat na Zemana .60 % ??jak jste na to přišel ?volební účast byla necelých 60 % , z nich dostal Zeman něco víc než 50 % , takže ho volilo zhruba 30 % občanů !Zeman to má správně , po \" to \" má podle standardních pravidel následovat infinitive ( to continue ) , stejně jako např .I want to go , nikoliv I want to going .Možná si ale angličané či američané vymysleli frázi , která jde proti samotným principům jejich jazyka , já nevím ...Ano , pokud by se vulgarita omezenost Milouše dalo pokládat za výkon ..Pravomoc asi ano , ale ten výkon je hodně diskutabilní .; - )\n",
      "Komicke , 3 moji kolegove kteri maji anglictinu jako rodny jazyk maji 3 nazory ...kupodivu jine nez korektor .Mj .American povazuje hradni verzi za spravnou ; - ) .Jak se to rika ?Gramar Nazi ?Jéžiš ..To se stalo .Takováhle malichernosti snad ani nestojí za řeč .Ano ..Beru to , že být tam jiný prezident - tak je to ostuda a dost možná by se z toho vyvodil i nějaký závěr pro překladatele ..Ale Zeman přece neřeší daleko důležitější věci , chová se jak hulvát , mluví sprostě a vytahuje vlastní rozumné názory z análů jeho politicky korektních sbírek a bonmotů .U toho bych zůstal .Jediné co tímto způsobíte , že se zase ozve blázen Ovčáček ..Vsadím se , že už se určitě někde vyjádřil , a nebudu daleko od pravdy , že to je zase nějaká kravina na entou ..; - D ; - D\n",
      "Hrad má zkrátka svůj styl .Tak jak nevěnují pozornost ověřování faktů , házejí bobek i na pravopis .Asi jako když hradní ovce v \" blahopřání \" Trumpovi napsala , že loosery je washingtonská káva místo washingtonská kavárna .\n",
      "\n",
      "Kolik zdejších diskutujíích je schopno ten dopis přečíst a odborně vyhodnotit , zdali obsahuje chyby , a v jaké rovině ?Chlapec z překladatelské agentury , který pravděpodobně věřil ve zviditelnění své firmy , si už asi tluče do hlavy , že se do tohoto hodnocení pustil , protože už na jeho vlastním FB musel uznat námitky jeho odborných oponentů , že zdaleka nemá pravdu ve všech korekcích .Americanka , ktera umi cist a psat , by nepracovala pro Zemanovu kancelar .To mě těší !Hlavně to , že jsem si tu zprávu vymyslel .Další ostuda , co obletěla celý svět ....: - P Zeman = ostuda Čechů\n",
      "Vyčítat hradnímu násoskovi , že neumí perfektně anglicky je samozřejmě blbost , vyčítejme mu , že se obklopuje bandou kamarádů = amatérů , ale to dělal koneckonců vždycky .Jeho \" vláda sebevrahů \" jak ji sám nazýval - Grégr , Svoboda , Kavan mluví za vše .Ono řekněme si na rovinu , co je horší ?Kancléř ( Mynář ) bez prověrky nebo ministr financí ( Svoboda ) odsouzený za hospodářskou trestnou činnost ( vytunelování Liberty ) ?Ale kdo ví co Mynář , Zbytek , Nejedlý a spol připravují za svinstvo a když to praskne tak se od toho bude násoska samozřejmě distancovat ....viz akce olovo z doby jeho premierování .Proti tomu je ( ne ) znalost angličtiny jen čajíček .Havel se učil v pivovaře , zatímco Zeman na to měl školy a navíc 20 let .Zrovna anglická gramatika je asi to nejmenší , co by se dalo Zemanovi vytknout .Když chce křišťálová Idnes prezidenta bíti , hodí se i koncept dopisu , kde ani překladetel nepopírá jeho srozumitelnost .Presne !Navic obe varianty ( citovane v clanku ) me prijdou spravne .Zda se mi , ze se proste jen snazili p .Zemana zostudit za kazdou cenu .V tomhle pripade neopravnene .Vaše ubohá snaha dehonestovat prezidenta za každou cenu už je fakt trapná .A když náhodou vaši presstituti nic nevymyslí , tak prostě začnete lhát .Pokud by se to stalo Havlovi , informovali by nás tito jeho tehdejší mediální patolízalové , jak že je ta jeho angličtina roztomilá a rozplývali by se blahem .\n",
      "---------------------\n",
      "Given the context information and not prior knowledge, answer the query.\n",
      "Query: Given a conversation (between Human and Assistant) and a follow up message from Human, rewrite the message to be a standalone question that captures all relevant context from the conversation.\n",
      "\n",
      "<Chat History> \n",
      "\n",
      "\n",
      "<Follow Up Message>\n",
      "Jake jsou ty nejmensi preslapy, ktere Zeman udelal?\n",
      "\n",
      "<Standalone question>\n",
      "\n",
      "Answer: \n"
     ]
    }
   ],
   "source": [
    "response = chat_engine.chat(\"Jake jsou ty nejmensi preslapy, ktere Zeman udelal?\")\n",
    "print(response)"
   ]
  },
  {
   "cell_type": "code",
   "execution_count": null,
   "id": "d3104aaf-2cc7-4e14-a3db-5143f0755edc",
   "metadata": {},
   "outputs": [],
   "source": []
  }
 ],
 "metadata": {
  "kernelspec": {
   "display_name": "Python 3 (ipykernel)",
   "language": "python",
   "name": "python3"
  },
  "language_info": {
   "codemirror_mode": {
    "name": "ipython",
    "version": 3
   },
   "file_extension": ".py",
   "mimetype": "text/x-python",
   "name": "python",
   "nbconvert_exporter": "python",
   "pygments_lexer": "ipython3",
   "version": "3.10.4"
  }
 },
 "nbformat": 4,
 "nbformat_minor": 5
}
