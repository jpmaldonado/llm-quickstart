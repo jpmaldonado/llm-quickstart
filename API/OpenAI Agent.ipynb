{
 "cells": [
  {
   "cell_type": "code",
   "execution_count": 2,
   "id": "7c34183e",
   "metadata": {},
   "outputs": [],
   "source": [
    "import os\n",
    "    \n",
    "# add your openai api key here\n",
    "os.environ['OPENAI_API_KEY'] = 'Your OpenAI API key here'        "
   ]
  },
  {
   "cell_type": "code",
   "execution_count": null,
   "id": "cd95d2e0-bf8b-4133-98d0-f9acc31dbe7d",
   "metadata": {},
   "outputs": [],
   "source": [
    "from llama_index.agent import OpenAIAgent\n",
    "from llama_index.llms import OpenAI\n",
    "from llama_index.prompts.system import MARKETING_WRITING_ASSISTANT"
   ]
  },
  {
   "cell_type": "code",
   "execution_count": null,
   "id": "b76b7963",
   "metadata": {},
   "outputs": [],
   "source": [
    "llm = OpenAI(model=\"gpt-3.5-turbo-0613\")"
   ]
  },
  {
   "cell_type": "code",
   "execution_count": null,
   "id": "83242a4e",
   "metadata": {},
   "outputs": [],
   "source": [
    "print(MARKETING_WRITING_ASSISTANT)"
   ]
  },
  {
   "cell_type": "code",
   "execution_count": null,
   "id": "b0160b41",
   "metadata": {},
   "outputs": [],
   "source": [
    "GRANDMA = '''You are a very old Czech lady who is very kind and soft mannered. You write in a very soft \n",
    "            tone and make everyone feel a child again. If you are not sure of something,  \n",
    "            you say \"oh honey, I am too old to think about that\". '''"
   ]
  },
  {
   "cell_type": "code",
   "execution_count": null,
   "id": "98c67824-bbe1-42cf-a59a-32dc0fdcb929",
   "metadata": {},
   "outputs": [],
   "source": [
    "agent = OpenAIAgent.from_tools(\n",
    "    llm=llm,\n",
    "    verbose=True,\n",
    "    system_prompt= GRANDMA#MARKETING_WRITING_ASSISTANT,\n",
    ")"
   ]
  },
  {
   "cell_type": "code",
   "execution_count": null,
   "id": "708b46fb",
   "metadata": {},
   "outputs": [],
   "source": [
    "# Single response\n",
    "response = agent.chat(\"Ahoj, dobry den!\")\n",
    "print(response)"
   ]
  },
  {
   "cell_type": "code",
   "execution_count": null,
   "id": "172f3c92",
   "metadata": {},
   "outputs": [],
   "source": [
    "# Conversation\n",
    "while True:\n",
    "    text_input = input(\"User: \")\n",
    "    response = agent.chat(text_input)\n",
    "    print(f\"Agent: {response}\")"
   ]
  }
 ],
 "metadata": {
  "kernelspec": {
   "display_name": "Python 3 (ipykernel)",
   "language": "python",
   "name": "python3"
  },
  "language_info": {
   "codemirror_mode": {
    "name": "ipython",
    "version": 3
   },
   "file_extension": ".py",
   "mimetype": "text/x-python",
   "name": "python",
   "nbconvert_exporter": "python",
   "pygments_lexer": "ipython3",
   "version": "3.10.4"
  }
 },
 "nbformat": 4,
 "nbformat_minor": 5
}
