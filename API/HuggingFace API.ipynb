{
 "cells": [
  {
   "cell_type": "code",
   "execution_count": null,
   "id": "708f5444",
   "metadata": {},
   "outputs": [],
   "source": [
    "import requests\n",
    "\n",
    "API_URL = \"https://api-inference.huggingface.co/models/spital/gpt2-small-czech-cs\"\n",
    "API_TOKEN = 'Your HuggingFace API token here'\n",
    "\n",
    "headers = {\"Authorization\": f\"Bearer {API_TOKEN}\"}\n",
    "\n",
    "def query(payload):\n",
    "    response = requests.post(API_URL, headers=headers, json=payload)\n",
    "    return response.json()"
   ]
  },
  {
   "cell_type": "code",
   "execution_count": null,
   "id": "af6ec89e",
   "metadata": {},
   "outputs": [],
   "source": [
    "output = query({\n",
    "    \"inputs\": [\"Umělá inteligence pomůže lidstvu překonat budoucí\", \n",
    "               \"\"\"\n",
    "               Film Barbie přesáhl první srpnovou neděli na tržbách \n",
    "               v přepočtu téměř 22 miliard korun. Stalo se tak \n",
    "               \"\"\"],\n",
    "    \"wait_for_model\":True\n",
    "})"
   ]
  },
  {
   "cell_type": "code",
   "execution_count": null,
   "id": "a41024ae",
   "metadata": {},
   "outputs": [],
   "source": [
    "output"
   ]
  },
  {
   "cell_type": "code",
   "execution_count": null,
   "id": "ccc56d69",
   "metadata": {},
   "outputs": [],
   "source": []
  }
 ],
 "metadata": {
  "kernelspec": {
   "display_name": "Python 3 (ipykernel)",
   "language": "python",
   "name": "python3"
  },
  "language_info": {
   "codemirror_mode": {
    "name": "ipython",
    "version": 3
   },
   "file_extension": ".py",
   "mimetype": "text/x-python",
   "name": "python",
   "nbconvert_exporter": "python",
   "pygments_lexer": "ipython3",
   "version": "3.10.4"
  }
 },
 "nbformat": 4,
 "nbformat_minor": 5
}
